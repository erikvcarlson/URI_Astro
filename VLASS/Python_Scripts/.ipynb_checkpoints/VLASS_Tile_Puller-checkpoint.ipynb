{
 "cells": [
  {
   "cell_type": "code",
   "execution_count": 1,
   "metadata": {},
   "outputs": [
    {
     "name": "stdout",
     "output_type": "stream",
     "text": [
      "Please Enter your Right Ascention in Decimal Format: 121\n",
      "Please Enter your Right Ascention in Decimal Format: 4\n",
      "Please Enter the Requested Epoch (1/2), leave blank if unknown: 1\n",
      "VLASS2.1.sb38499285.eb38509861.59047.50492306713\n",
      "VLASS1.1.sb34504025.eb34557675.58027.36083796296\n",
      "VLASS2.1.sb38561374.eb38565040.59070.62333981482\n",
      "VLASS1.1.sb34647560.eb34700758.58075.26425702547\n"
     ]
    }
   ],
   "source": [
    "#Author: Erik Carlson \n",
    "#Description: This Script takes a user provided Right Ascention and Declination as defined on lines 16 and 17 and provides the user with the measurement set identification of the quicklook images\n",
    "#This script requires the use of Python 3 to run properly \n",
    "#Future Changes: Provide the User with Multi-Epoch datasets. Expand to fields that are on the edges of tiles\n",
    "import urllib\n",
    "import urllib.request\n",
    "import re\n",
    "import csv\n",
    "import requests\n",
    "\n",
    "\n",
    "#intake and validate values from the user\n",
    "a = 0\n",
    "while a ==0: \n",
    "    try: \n",
    "        RA = input(\"Please Enter your Right Ascention in Decimal Format: \") #121.98974\n",
    "        DEC = input(\"Please Enter your Right Ascention in Decimal Format: \") #4.54293\n",
    "        Epoch = input(\"Please Enter the Requested Epoch (1/2), leave blank if unknown: \")\n",
    "        RA = float(RA)\n",
    "        DEC = float(DEC)\n",
    "        if Epoch == '':\n",
    "            Epoch = '1'\n",
    "        Epoch = int(Epoch)\n",
    "        break\n",
    "    except: \n",
    "        print(\"Incorrect Values Entered\")\n",
    "\n",
    "with open('Tile_Boundaries.csv', newline='') as csvfile:\n",
    "    data = list(csv.reader(csvfile))\n",
    "\n",
    "for tile in data:\n",
    "        Dec_Tile_Start = float(tile[1])\n",
    "        Dec_Tile_End = float(tile[2])\n",
    "        Dec_Tile_Center = (Dec_Tile_End - Dec_Tile_Start)/2 + Dec_Tile_Start\n",
    "        \n",
    "        RA_Tile_Start = float(tile[3])*15\n",
    "        RA_Tile_End = float(tile[4])*15\n",
    "        RA_Tile_Center = (RA_Tile_End - RA_Tile_End)/2 + RA_Tile_Start\n",
    "        \n",
    "        if abs(RA_Tile_Center - RA) <= 3.75 and abs(Dec_Tile_Center - DEC) <= 2: \n",
    "            tile_id = tile[0]\n",
    "            VLASS_id = tile[5]\n",
    "            URL = \"https://archive-new.nrao.edu/vlass/quicklook/\" + VLASS_id + '/' + tile_id + '/'\n",
    "            page = requests.get(URL).text\n",
    "            JName_regex = 'J\\d{6}[+]\\d{6}[.]\\d\\d[.]\\d{4}\\S{3}'\n",
    "            m = re.search(JName_regex, page)\n",
    "            if m:\n",
    "                found_JName = m.group(0)\n",
    "                full_directory_name = VLASS_id + '.ql.' + tile_id + '.' + found_JName\n",
    "                URL_New = \"https://archive-new.nrao.edu/vlass/quicklook/\" + VLASS_id + '/' + tile_id + '/' + full_directory_name + '/casa_pipescript.py'\n",
    "                try:\n",
    "                    url = URL_New\n",
    "                    search_file_for_ms =  urllib.request.urlopen(url)\n",
    "                    for line in search_file_for_ms:\n",
    "                        decoded_line = line.decode(\"utf-8\")\n",
    "                        if decoded_line.find(str(VLASS_id)) != -1:\n",
    "                            start_value = int(decoded_line.find(str(VLASS_id)))\n",
    "                            end_value = int(decoded_line.find('.ms'))\n",
    "                            measurement_set_name = decoded_line[start_value:end_value]\n",
    "                            print(measurement_set_name)\n",
    "                except:\n",
    "                    pass\n",
    "            \n",
    "\n"
   ]
  },
  {
   "cell_type": "code",
   "execution_count": 2,
   "metadata": {},
   "outputs": [
    {
     "data": {
      "text/plain": [
       "'VLASS2.1'"
      ]
     },
     "execution_count": 2,
     "metadata": {},
     "output_type": "execute_result"
    }
   ],
   "source": [
    "tile[5]"
   ]
  },
  {
   "cell_type": "code",
   "execution_count": 3,
   "metadata": {},
   "outputs": [
    {
     "data": {
      "text/plain": [
       "'T32t02'"
      ]
     },
     "execution_count": 3,
     "metadata": {},
     "output_type": "execute_result"
    }
   ],
   "source": [
    "tile[0]"
   ]
  },
  {
   "cell_type": "code",
   "execution_count": 4,
   "metadata": {},
   "outputs": [
    {
     "data": {
      "text/plain": [
       "'90'"
      ]
     },
     "execution_count": 4,
     "metadata": {},
     "output_type": "execute_result"
    }
   ],
   "source": [
    "tile[2]"
   ]
  },
  {
   "cell_type": "code",
   "execution_count": null,
   "metadata": {},
   "outputs": [],
   "source": []
  }
 ],
 "metadata": {
  "kernelspec": {
   "display_name": "Python 3",
   "language": "python",
   "name": "python3"
  },
  "language_info": {
   "codemirror_mode": {
    "name": "ipython",
    "version": 3
   },
   "file_extension": ".py",
   "mimetype": "text/x-python",
   "name": "python",
   "nbconvert_exporter": "python",
   "pygments_lexer": "ipython3",
   "version": "3.6.8"
  }
 },
 "nbformat": 4,
 "nbformat_minor": 2
}
